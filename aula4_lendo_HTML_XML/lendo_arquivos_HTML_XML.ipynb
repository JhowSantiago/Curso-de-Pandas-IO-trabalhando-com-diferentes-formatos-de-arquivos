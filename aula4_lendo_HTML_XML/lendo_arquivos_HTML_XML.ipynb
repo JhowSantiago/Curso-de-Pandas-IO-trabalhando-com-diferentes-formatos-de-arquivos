{
 "cells": [
  {
   "cell_type": "markdown",
   "metadata": {},
   "source": [
    "# Importando biblioteca"
   ]
  },
  {
   "cell_type": "code",
   "execution_count": 1,
   "metadata": {},
   "outputs": [],
   "source": [
    "import pandas as pd"
   ]
  },
  {
   "cell_type": "markdown",
   "metadata": {},
   "source": [
    "# Lendo arquivo HTML"
   ]
  },
  {
   "cell_type": "markdown",
   "metadata": {},
   "source": [
    "Aparentemente é uma lista, porque começa com colchetes. Primeiro temos os dados daquela primeira tabela, começando em 1998 e indo até 2008. Abaixo disso, temos os dados da segunda tabela e, por fim, os dados da terceira.\n",
    "\n",
    "Mas, por que não surgiu um dataframe?\n",
    "\n",
    "A função read_html() busca pelas tags table e transforma esses dataframes em uma lista. Ou seja, nossa lista contém os dataframes um abaixo do outro."
   ]
  },
  {
   "cell_type": "code",
   "execution_count": 4,
   "metadata": {},
   "outputs": [
    {
     "data": {
      "text/plain": [
       "[       0                      1\n",
       " 0   1998             100 Movies\n",
       " 1   1999              100 Stars\n",
       " 2   2000             100 Laughs\n",
       " 3   2001            100 Thrills\n",
       " 4   2002           100 Passions\n",
       " 5   2003  100 Heroes & Villains\n",
       " 6   2004              100 Songs\n",
       " 7   2005       100 Movie Quotes\n",
       " 8   2005              25 Scores\n",
       " 9   2006             100 Cheers\n",
       " 10  2006            25 Musicals\n",
       " 11  2007   100 Movies (Updated)\n",
       " 12  2008        AFI's 10 Top 10\n",
       " 13   vte                    vte,\n",
       "                             Film  Release year              Director  \\\n",
       " 0                   Citizen Kane          1941          Orson Welles   \n",
       " 1                     Casablanca          1942        Michael Curtiz   \n",
       " 2                  The Godfather          1972  Francis Ford Coppola   \n",
       " 3             Gone with the Wind          1939        Victor Fleming   \n",
       " 4             Lawrence of Arabia          1962            David Lean   \n",
       " ..                           ...           ...                   ...   \n",
       " 95                 The Searchers          1956             John Ford   \n",
       " 96              Bringing Up Baby          1938          Howard Hawks   \n",
       " 97                    Unforgiven          1992        Clint Eastwood   \n",
       " 98  Guess Who's Coming to Dinner          1967        Stanley Kramer   \n",
       " 99           Yankee Doodle Dandy          1942        Michael Curtiz   \n",
       " \n",
       "                       Production companies  Rank  \n",
       " 0                       RKO Radio Pictures     1  \n",
       " 1                    Warner Bros. Pictures     2  \n",
       " 2   Paramount Pictures, Alfran Productions     3  \n",
       " 3          Selznick International Pictures     4  \n",
       " 4                         Horizon Pictures     5  \n",
       " ..                                     ...   ...  \n",
       " 95                  C. V. Whitney Pictures    96  \n",
       " 96                      RKO Radio Pictures    97  \n",
       " 97                     The Malpaso Company    98  \n",
       " 98                       Columbia Pictures    99  \n",
       " 99                   Warner Bros. Pictures   100  \n",
       " \n",
       " [100 rows x 5 columns],\n",
       "           hidevteAFI's 100 Years...100 Movies (1998)  \\\n",
       " 0  Citizen Kane (1941) Casablanca (1942) The Godf...   \n",
       " \n",
       "         hidevteAFI's 100 Years...100 Movies (1998).1  \n",
       " 0  Citizen Kane (1941) Casablanca (1942) The Godf...  ]"
      ]
     },
     "execution_count": 4,
     "metadata": {},
     "output_type": "execute_result"
    }
   ],
   "source": [
    "path = 'C:\\\\Users\\\\ModalGR\\\\Desktop\\\\Cursos_e_projetos\\\\Formação_Python_para_data_Science_alura\\\\Curso-de-Pandas-IO-trabalhando-com-diferentes-formatos-de-arquivos\\\\aula4_lendo_HTML_XML\\\\filmes_wikipedia.html'\n",
    "\n",
    "dados_html = pd.read_html(path)\n",
    "dados_html"
   ]
  },
  {
   "cell_type": "code",
   "execution_count": 5,
   "metadata": {},
   "outputs": [
    {
     "data": {
      "text/plain": [
       "list"
      ]
     },
     "execution_count": 5,
     "metadata": {},
     "output_type": "execute_result"
    }
   ],
   "source": [
    "type(dados_html)"
   ]
  },
  {
   "cell_type": "code",
   "execution_count": 6,
   "metadata": {},
   "outputs": [
    {
     "data": {
      "text/plain": [
       "3"
      ]
     },
     "execution_count": 6,
     "metadata": {},
     "output_type": "execute_result"
    }
   ],
   "source": [
    "len(dados_html)"
   ]
  },
  {
   "cell_type": "code",
   "execution_count": 8,
   "metadata": {},
   "outputs": [
    {
     "data": {
      "text/html": [
       "<div>\n",
       "<style scoped>\n",
       "    .dataframe tbody tr th:only-of-type {\n",
       "        vertical-align: middle;\n",
       "    }\n",
       "\n",
       "    .dataframe tbody tr th {\n",
       "        vertical-align: top;\n",
       "    }\n",
       "\n",
       "    .dataframe thead th {\n",
       "        text-align: right;\n",
       "    }\n",
       "</style>\n",
       "<table border=\"1\" class=\"dataframe\">\n",
       "  <thead>\n",
       "    <tr style=\"text-align: right;\">\n",
       "      <th></th>\n",
       "      <th>Film</th>\n",
       "      <th>Release year</th>\n",
       "      <th>Director</th>\n",
       "      <th>Production companies</th>\n",
       "      <th>Rank</th>\n",
       "    </tr>\n",
       "  </thead>\n",
       "  <tbody>\n",
       "    <tr>\n",
       "      <th>0</th>\n",
       "      <td>Citizen Kane</td>\n",
       "      <td>1941</td>\n",
       "      <td>Orson Welles</td>\n",
       "      <td>RKO Radio Pictures</td>\n",
       "      <td>1</td>\n",
       "    </tr>\n",
       "    <tr>\n",
       "      <th>1</th>\n",
       "      <td>Casablanca</td>\n",
       "      <td>1942</td>\n",
       "      <td>Michael Curtiz</td>\n",
       "      <td>Warner Bros. Pictures</td>\n",
       "      <td>2</td>\n",
       "    </tr>\n",
       "    <tr>\n",
       "      <th>2</th>\n",
       "      <td>The Godfather</td>\n",
       "      <td>1972</td>\n",
       "      <td>Francis Ford Coppola</td>\n",
       "      <td>Paramount Pictures, Alfran Productions</td>\n",
       "      <td>3</td>\n",
       "    </tr>\n",
       "    <tr>\n",
       "      <th>3</th>\n",
       "      <td>Gone with the Wind</td>\n",
       "      <td>1939</td>\n",
       "      <td>Victor Fleming</td>\n",
       "      <td>Selznick International Pictures</td>\n",
       "      <td>4</td>\n",
       "    </tr>\n",
       "    <tr>\n",
       "      <th>4</th>\n",
       "      <td>Lawrence of Arabia</td>\n",
       "      <td>1962</td>\n",
       "      <td>David Lean</td>\n",
       "      <td>Horizon Pictures</td>\n",
       "      <td>5</td>\n",
       "    </tr>\n",
       "    <tr>\n",
       "      <th>...</th>\n",
       "      <td>...</td>\n",
       "      <td>...</td>\n",
       "      <td>...</td>\n",
       "      <td>...</td>\n",
       "      <td>...</td>\n",
       "    </tr>\n",
       "    <tr>\n",
       "      <th>95</th>\n",
       "      <td>The Searchers</td>\n",
       "      <td>1956</td>\n",
       "      <td>John Ford</td>\n",
       "      <td>C. V. Whitney Pictures</td>\n",
       "      <td>96</td>\n",
       "    </tr>\n",
       "    <tr>\n",
       "      <th>96</th>\n",
       "      <td>Bringing Up Baby</td>\n",
       "      <td>1938</td>\n",
       "      <td>Howard Hawks</td>\n",
       "      <td>RKO Radio Pictures</td>\n",
       "      <td>97</td>\n",
       "    </tr>\n",
       "    <tr>\n",
       "      <th>97</th>\n",
       "      <td>Unforgiven</td>\n",
       "      <td>1992</td>\n",
       "      <td>Clint Eastwood</td>\n",
       "      <td>The Malpaso Company</td>\n",
       "      <td>98</td>\n",
       "    </tr>\n",
       "    <tr>\n",
       "      <th>98</th>\n",
       "      <td>Guess Who's Coming to Dinner</td>\n",
       "      <td>1967</td>\n",
       "      <td>Stanley Kramer</td>\n",
       "      <td>Columbia Pictures</td>\n",
       "      <td>99</td>\n",
       "    </tr>\n",
       "    <tr>\n",
       "      <th>99</th>\n",
       "      <td>Yankee Doodle Dandy</td>\n",
       "      <td>1942</td>\n",
       "      <td>Michael Curtiz</td>\n",
       "      <td>Warner Bros. Pictures</td>\n",
       "      <td>100</td>\n",
       "    </tr>\n",
       "  </tbody>\n",
       "</table>\n",
       "<p>100 rows × 5 columns</p>\n",
       "</div>"
      ],
      "text/plain": [
       "                            Film  Release year              Director  \\\n",
       "0                   Citizen Kane          1941          Orson Welles   \n",
       "1                     Casablanca          1942        Michael Curtiz   \n",
       "2                  The Godfather          1972  Francis Ford Coppola   \n",
       "3             Gone with the Wind          1939        Victor Fleming   \n",
       "4             Lawrence of Arabia          1962            David Lean   \n",
       "..                           ...           ...                   ...   \n",
       "95                 The Searchers          1956             John Ford   \n",
       "96              Bringing Up Baby          1938          Howard Hawks   \n",
       "97                    Unforgiven          1992        Clint Eastwood   \n",
       "98  Guess Who's Coming to Dinner          1967        Stanley Kramer   \n",
       "99           Yankee Doodle Dandy          1942        Michael Curtiz   \n",
       "\n",
       "                      Production companies  Rank  \n",
       "0                       RKO Radio Pictures     1  \n",
       "1                    Warner Bros. Pictures     2  \n",
       "2   Paramount Pictures, Alfran Productions     3  \n",
       "3          Selznick International Pictures     4  \n",
       "4                         Horizon Pictures     5  \n",
       "..                                     ...   ...  \n",
       "95                  C. V. Whitney Pictures    96  \n",
       "96                      RKO Radio Pictures    97  \n",
       "97                     The Malpaso Company    98  \n",
       "98                       Columbia Pictures    99  \n",
       "99                   Warner Bros. Pictures   100  \n",
       "\n",
       "[100 rows x 5 columns]"
      ]
     },
     "execution_count": 8,
     "metadata": {},
     "output_type": "execute_result"
    }
   ],
   "source": [
    "top_filmes = dados_html[1]\n",
    "top_filmes"
   ]
  },
  {
   "cell_type": "markdown",
   "metadata": {},
   "source": [
    "# Escrevendo o Data Frame em HTML"
   ]
  },
  {
   "cell_type": "code",
   "execution_count": 10,
   "metadata": {},
   "outputs": [],
   "source": [
    "top_filmes.to_html('top_filmes.html')"
   ]
  },
  {
   "cell_type": "markdown",
   "metadata": {},
   "source": [
    "# Lendo e escrevendo arquivos XML"
   ]
  },
  {
   "cell_type": "code",
   "execution_count": 11,
   "metadata": {},
   "outputs": [],
   "source": [
    "path = 'C:\\\\Users\\\\ModalGR\\\\Desktop\\\\Cursos_e_projetos\\\\Formação_Python_para_data_Science_alura\\\\Curso-de-Pandas-IO-trabalhando-com-diferentes-formatos-de-arquivos\\\\aula4_lendo_HTML_XML\\\\imdb_top_1000.xml'"
   ]
  },
  {
   "cell_type": "code",
   "execution_count": 15,
   "metadata": {},
   "outputs": [
    {
     "data": {
      "text/html": [
       "<div>\n",
       "<style scoped>\n",
       "    .dataframe tbody tr th:only-of-type {\n",
       "        vertical-align: middle;\n",
       "    }\n",
       "\n",
       "    .dataframe tbody tr th {\n",
       "        vertical-align: top;\n",
       "    }\n",
       "\n",
       "    .dataframe thead th {\n",
       "        text-align: right;\n",
       "    }\n",
       "</style>\n",
       "<table border=\"1\" class=\"dataframe\">\n",
       "  <thead>\n",
       "    <tr style=\"text-align: right;\">\n",
       "      <th></th>\n",
       "      <th>index</th>\n",
       "      <th>Poster_Link</th>\n",
       "      <th>Series_Title</th>\n",
       "      <th>Released_Year</th>\n",
       "      <th>Certificate</th>\n",
       "      <th>Runtime</th>\n",
       "      <th>Genre</th>\n",
       "      <th>IMDB_Rating</th>\n",
       "      <th>Overview</th>\n",
       "      <th>Meta_score</th>\n",
       "      <th>Director</th>\n",
       "      <th>Star1</th>\n",
       "      <th>Star2</th>\n",
       "      <th>Star3</th>\n",
       "      <th>Star4</th>\n",
       "      <th>No_of_Votes</th>\n",
       "      <th>Gross</th>\n",
       "    </tr>\n",
       "  </thead>\n",
       "  <tbody>\n",
       "    <tr>\n",
       "      <th>0</th>\n",
       "      <td>0</td>\n",
       "      <td>https://m.media-amazon.com/images/M/MV5BMDFkYT...</td>\n",
       "      <td>The Shawshank Redemption</td>\n",
       "      <td>1994</td>\n",
       "      <td>A</td>\n",
       "      <td>142 min</td>\n",
       "      <td>Drama</td>\n",
       "      <td>9.3</td>\n",
       "      <td>Two imprisoned men bond over a number of years...</td>\n",
       "      <td>80.0</td>\n",
       "      <td>Frank Darabont</td>\n",
       "      <td>Tim Robbins</td>\n",
       "      <td>Morgan Freeman</td>\n",
       "      <td>Bob Gunton</td>\n",
       "      <td>William Sadler</td>\n",
       "      <td>2343110</td>\n",
       "      <td>28,341,469</td>\n",
       "    </tr>\n",
       "    <tr>\n",
       "      <th>1</th>\n",
       "      <td>1</td>\n",
       "      <td>https://m.media-amazon.com/images/M/MV5BM2MyNj...</td>\n",
       "      <td>The Godfather</td>\n",
       "      <td>1972</td>\n",
       "      <td>A</td>\n",
       "      <td>175 min</td>\n",
       "      <td>Crime, Drama</td>\n",
       "      <td>9.2</td>\n",
       "      <td>An organized crime dynasty's aging patriarch t...</td>\n",
       "      <td>100.0</td>\n",
       "      <td>Francis Ford Coppola</td>\n",
       "      <td>Marlon Brando</td>\n",
       "      <td>Al Pacino</td>\n",
       "      <td>James Caan</td>\n",
       "      <td>Diane Keaton</td>\n",
       "      <td>1620367</td>\n",
       "      <td>134,966,411</td>\n",
       "    </tr>\n",
       "    <tr>\n",
       "      <th>2</th>\n",
       "      <td>2</td>\n",
       "      <td>https://m.media-amazon.com/images/M/MV5BMTMxNT...</td>\n",
       "      <td>The Dark Knight</td>\n",
       "      <td>2008</td>\n",
       "      <td>UA</td>\n",
       "      <td>152 min</td>\n",
       "      <td>Action, Crime, Drama</td>\n",
       "      <td>9.0</td>\n",
       "      <td>When the menace known as the Joker wreaks havo...</td>\n",
       "      <td>84.0</td>\n",
       "      <td>Christopher Nolan</td>\n",
       "      <td>Christian Bale</td>\n",
       "      <td>Heath Ledger</td>\n",
       "      <td>Aaron Eckhart</td>\n",
       "      <td>Michael Caine</td>\n",
       "      <td>2303232</td>\n",
       "      <td>534,858,444</td>\n",
       "    </tr>\n",
       "  </tbody>\n",
       "</table>\n",
       "</div>"
      ],
      "text/plain": [
       "   index                                        Poster_Link  \\\n",
       "0      0  https://m.media-amazon.com/images/M/MV5BMDFkYT...   \n",
       "1      1  https://m.media-amazon.com/images/M/MV5BM2MyNj...   \n",
       "2      2  https://m.media-amazon.com/images/M/MV5BMTMxNT...   \n",
       "\n",
       "               Series_Title Released_Year Certificate  Runtime  \\\n",
       "0  The Shawshank Redemption          1994           A  142 min   \n",
       "1             The Godfather          1972           A  175 min   \n",
       "2           The Dark Knight          2008          UA  152 min   \n",
       "\n",
       "                  Genre  IMDB_Rating  \\\n",
       "0                 Drama          9.3   \n",
       "1          Crime, Drama          9.2   \n",
       "2  Action, Crime, Drama          9.0   \n",
       "\n",
       "                                            Overview  Meta_score  \\\n",
       "0  Two imprisoned men bond over a number of years...        80.0   \n",
       "1  An organized crime dynasty's aging patriarch t...       100.0   \n",
       "2  When the menace known as the Joker wreaks havo...        84.0   \n",
       "\n",
       "               Director           Star1           Star2          Star3  \\\n",
       "0        Frank Darabont     Tim Robbins  Morgan Freeman     Bob Gunton   \n",
       "1  Francis Ford Coppola   Marlon Brando       Al Pacino     James Caan   \n",
       "2     Christopher Nolan  Christian Bale    Heath Ledger  Aaron Eckhart   \n",
       "\n",
       "            Star4  No_of_Votes        Gross  \n",
       "0  William Sadler      2343110   28,341,469  \n",
       "1    Diane Keaton      1620367  134,966,411  \n",
       "2   Michael Caine      2303232  534,858,444  "
      ]
     },
     "execution_count": 15,
     "metadata": {},
     "output_type": "execute_result"
    }
   ],
   "source": [
    "dados_imdb = pd.read_xml(path)\n",
    "dados_imdb.head(3)"
   ]
  },
  {
   "cell_type": "code",
   "execution_count": 16,
   "metadata": {},
   "outputs": [],
   "source": [
    "dados_imdb.to_xml('filmes_imdb.xml')"
   ]
  },
  {
   "cell_type": "markdown",
   "metadata": {},
   "source": [
    "# DESAFIO"
   ]
  },
  {
   "cell_type": "markdown",
   "metadata": {},
   "source": [
    "Chegou a hora de testar os conhecimentos desenvolvidos durante a aula.\n",
    "\n",
    "Vanessa é uma cientista de dados que está realizando algumas análises com dados ambientais. Ela está desenvolvendo um projeto para avaliar o impacto ambiental das atividades humanas em diferentes países do mundo, mas para isso precisa das estimativas populacionais desses países. Ao pesquisar na internet, encontrou uma tabela de estimativas populacionais em um artigo da página Wikipédia.\n",
    "\n",
    "Assim como Vanessa, seu desafio é obter um DataFrame da tabela que contém as informações do número de habitantes de cada país."
   ]
  },
  {
   "cell_type": "markdown",
   "metadata": {},
   "source": [
    "## Lendo a pagina HTML"
   ]
  },
  {
   "cell_type": "code",
   "execution_count": 22,
   "metadata": {},
   "outputs": [
    {
     "data": {
      "text/html": [
       "<div>\n",
       "<style scoped>\n",
       "    .dataframe tbody tr th:only-of-type {\n",
       "        vertical-align: middle;\n",
       "    }\n",
       "\n",
       "    .dataframe tbody tr th {\n",
       "        vertical-align: top;\n",
       "    }\n",
       "\n",
       "    .dataframe thead th {\n",
       "        text-align: right;\n",
       "    }\n",
       "</style>\n",
       "<table border=\"1\" class=\"dataframe\">\n",
       "  <thead>\n",
       "    <tr style=\"text-align: right;\">\n",
       "      <th></th>\n",
       "      <th>Posição</th>\n",
       "      <th>País (ou território dependente)</th>\n",
       "      <th>Estimativa da ONU</th>\n",
       "      <th>Crescimento desde a última estimativa</th>\n",
       "      <th>Estimativa Oficial</th>\n",
       "    </tr>\n",
       "  </thead>\n",
       "  <tbody>\n",
       "    <tr>\n",
       "      <th>0</th>\n",
       "      <td>1</td>\n",
       "      <td>Índia</td>\n",
       "      <td>1 429 921 746</td>\n",
       "      <td>+269.108.746</td>\n",
       "      <td>Estimativa oficial</td>\n",
       "    </tr>\n",
       "    <tr>\n",
       "      <th>1</th>\n",
       "      <td>2</td>\n",
       "      <td>China</td>\n",
       "      <td>1 426 391 281</td>\n",
       "      <td>+87.778.313</td>\n",
       "      <td>Censo oficial</td>\n",
       "    </tr>\n",
       "    <tr>\n",
       "      <th>2</th>\n",
       "      <td>3</td>\n",
       "      <td>Estados Unidos</td>\n",
       "      <td>339 987 103</td>\n",
       "      <td>+31.241.565</td>\n",
       "      <td>Censo oficial</td>\n",
       "    </tr>\n",
       "    <tr>\n",
       "      <th>3</th>\n",
       "      <td>4</td>\n",
       "      <td>Indonésia</td>\n",
       "      <td>277 184 719</td>\n",
       "      <td>+33.168.546</td>\n",
       "      <td>Estimativa oficial</td>\n",
       "    </tr>\n",
       "    <tr>\n",
       "      <th>4</th>\n",
       "      <td>5</td>\n",
       "      <td>Paquistão</td>\n",
       "      <td>240 215 932</td>\n",
       "      <td>+65.636.932</td>\n",
       "      <td>Estimativa oficial</td>\n",
       "    </tr>\n",
       "    <tr>\n",
       "      <th>...</th>\n",
       "      <td>...</td>\n",
       "      <td>...</td>\n",
       "      <td>...</td>\n",
       "      <td>...</td>\n",
       "      <td>...</td>\n",
       "    </tr>\n",
       "    <tr>\n",
       "      <th>245</th>\n",
       "      <td>–</td>\n",
       "      <td>Ilha de Ascensão (Reino Unido)</td>\n",
       "      <td>1 100</td>\n",
       "      <td>NaN</td>\n",
       "      <td>Estimativa oficial[10]</td>\n",
       "    </tr>\n",
       "    <tr>\n",
       "      <th>246</th>\n",
       "      <td>195</td>\n",
       "      <td>Vaticano</td>\n",
       "      <td>825</td>\n",
       "      <td>NaN</td>\n",
       "      <td>Estimativa oficial</td>\n",
       "    </tr>\n",
       "    <tr>\n",
       "      <th>247</th>\n",
       "      <td>–</td>\n",
       "      <td>Ilhas Cocos (Keeling) (Austrália)</td>\n",
       "      <td>596</td>\n",
       "      <td>NaN</td>\n",
       "      <td>Estimativa oficial</td>\n",
       "    </tr>\n",
       "    <tr>\n",
       "      <th>248</th>\n",
       "      <td>–</td>\n",
       "      <td>Tristão da Cunha (Reino Unido)</td>\n",
       "      <td>264</td>\n",
       "      <td>NaN</td>\n",
       "      <td>Estimativa oficial[11]</td>\n",
       "    </tr>\n",
       "    <tr>\n",
       "      <th>249</th>\n",
       "      <td>–</td>\n",
       "      <td>Ilhas Pitcairn (Reino Unido)</td>\n",
       "      <td>67</td>\n",
       "      <td>NaN</td>\n",
       "      <td>Estimativa oficial</td>\n",
       "    </tr>\n",
       "  </tbody>\n",
       "</table>\n",
       "<p>250 rows × 5 columns</p>\n",
       "</div>"
      ],
      "text/plain": [
       "    Posição    País (ou território dependente) Estimativa da ONU  \\\n",
       "0         1                              Índia     1 429 921 746   \n",
       "1         2                              China     1 426 391 281   \n",
       "2         3                     Estados Unidos       339 987 103   \n",
       "3         4                          Indonésia       277 184 719   \n",
       "4         5                          Paquistão       240 215 932   \n",
       "..      ...                                ...               ...   \n",
       "245       –     Ilha de Ascensão (Reino Unido)             1 100   \n",
       "246     195                           Vaticano               825   \n",
       "247       –  Ilhas Cocos (Keeling) (Austrália)               596   \n",
       "248       –     Tristão da Cunha (Reino Unido)               264   \n",
       "249       –       Ilhas Pitcairn (Reino Unido)                67   \n",
       "\n",
       "    Crescimento desde a última estimativa      Estimativa Oficial  \n",
       "0                            +269.108.746      Estimativa oficial  \n",
       "1                             +87.778.313           Censo oficial  \n",
       "2                             +31.241.565           Censo oficial  \n",
       "3                             +33.168.546      Estimativa oficial  \n",
       "4                             +65.636.932      Estimativa oficial  \n",
       "..                                    ...                     ...  \n",
       "245                                   NaN  Estimativa oficial[10]  \n",
       "246                                   NaN      Estimativa oficial  \n",
       "247                                   NaN      Estimativa oficial  \n",
       "248                                   NaN  Estimativa oficial[11]  \n",
       "249                                   NaN      Estimativa oficial  \n",
       "\n",
       "[250 rows x 5 columns]"
      ]
     },
     "execution_count": 22,
     "metadata": {},
     "output_type": "execute_result"
    }
   ],
   "source": [
    "DF = pd.read_html('https://pt.wikipedia.org/wiki/Lista_de_pa%C3%ADses_por_popula%C3%A7%C3%A3o')[0]\n",
    "df_desafio = DF.drop('Unnamed: 0', axis=1)\n",
    "df_desafio"
   ]
  },
  {
   "cell_type": "markdown",
   "metadata": {},
   "source": [
    "## Salvando a pagina HTML "
   ]
  },
  {
   "cell_type": "code",
   "execution_count": 23,
   "metadata": {},
   "outputs": [],
   "source": [
    "df_desafio.to_html('estimativas populacionais.html')"
   ]
  }
 ],
 "metadata": {
  "kernelspec": {
   "display_name": ".venv",
   "language": "python",
   "name": "python3"
  },
  "language_info": {
   "codemirror_mode": {
    "name": "ipython",
    "version": 3
   },
   "file_extension": ".py",
   "mimetype": "text/x-python",
   "name": "python",
   "nbconvert_exporter": "python",
   "pygments_lexer": "ipython3",
   "version": "3.12.3"
  }
 },
 "nbformat": 4,
 "nbformat_minor": 2
}
